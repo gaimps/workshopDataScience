{
  "nbformat": 4,
  "nbformat_minor": 0,
  "metadata": {
    "colab": {
      "name": "exercice101.ipynb",
      "provenance": [],
      "collapsed_sections": [],
      "toc_visible": true,
      "authorship_tag": "ABX9TyOMv9Hr0zhLC8G0JzgmDdNm",
      "include_colab_link": true
    },
    "kernelspec": {
      "name": "python3",
      "display_name": "Python 3"
    }
  },
  "cells": [
    {
      "cell_type": "markdown",
      "metadata": {
        "id": "view-in-github",
        "colab_type": "text"
      },
      "source": [
        "<a href=\"https://colab.research.google.com/github/gaimps/workshopDataScience/blob/master/exercice101.ipynb\" target=\"_parent\"><img src=\"https://colab.research.google.com/assets/colab-badge.svg\" alt=\"Open In Colab\"/></a>"
      ]
    },
    {
      "cell_type": "code",
      "metadata": {
        "id": "U5s2GSguOR3K",
        "colab_type": "code",
        "colab": {}
      },
      "source": [
        "algorithm = ['Linear Regression', 'Logistic Regression', 'RandomForest', 'a3c']\n",
        "learning = ['Supervised', 'Supervised', 'Supervised', 'Reinforcement']\n",
        "algorithm_type = ['Regression', 'Classification', 'Regression or Classification', 'Game AI']\n"
      ],
      "execution_count": 0,
      "outputs": []
    },
    {
      "cell_type": "code",
      "metadata": {
        "id": "sqHob3jEqVRy",
        "colab_type": "code",
        "colab": {}
      },
      "source": [
        "algorithm.append('k-means')"
      ],
      "execution_count": 0,
      "outputs": []
    },
    {
      "cell_type": "code",
      "metadata": {
        "id": "nr7TXzrcotkO",
        "colab_type": "code",
        "colab": {
          "base_uri": "https://localhost:8080/",
          "height": 34
        },
        "outputId": "c5caf499-71c4-433e-fcf8-c64b0508f190"
      },
      "source": [
        "print(algorithm)"
      ],
      "execution_count": 3,
      "outputs": [
        {
          "output_type": "stream",
          "text": [
            "['Linear Regression', 'Logistic Regression', 'RandomForest', 'a3c', 'k-means']\n"
          ],
          "name": "stdout"
        }
      ]
    },
    {
      "cell_type": "code",
      "metadata": {
        "id": "MuhR4RM0t4K0",
        "colab_type": "code",
        "colab": {}
      },
      "source": [
        "learning.append('Unsupervised')"
      ],
      "execution_count": 0,
      "outputs": []
    },
    {
      "cell_type": "code",
      "metadata": {
        "id": "Ha7qpmpnuAqt",
        "colab_type": "code",
        "colab": {
          "base_uri": "https://localhost:8080/",
          "height": 34
        },
        "outputId": "e6e54517-25d1-4d65-f4e1-bdbcd8e29685"
      },
      "source": [
        "print(learning)"
      ],
      "execution_count": 6,
      "outputs": [
        {
          "output_type": "stream",
          "text": [
            "['Supervised', 'Supervised', 'Supervised', 'Reinforcement', 'Unsupervised']\n"
          ],
          "name": "stdout"
        }
      ]
    },
    {
      "cell_type": "code",
      "metadata": {
        "id": "2V3FLPvGuSUH",
        "colab_type": "code",
        "colab": {}
      },
      "source": [
        "algorithm_type.append('Clustering')"
      ],
      "execution_count": 0,
      "outputs": []
    },
    {
      "cell_type": "code",
      "metadata": {
        "id": "Wq9EjInouZIt",
        "colab_type": "code",
        "colab": {
          "base_uri": "https://localhost:8080/",
          "height": 34
        },
        "outputId": "0a362f86-fa4b-4aa5-a527-d43ede86fe84"
      },
      "source": [
        "machine_learning = {}\n",
        "machine_learning['algorithm'] = algorithm\n",
        "print(machine_learning)"
      ],
      "execution_count": 10,
      "outputs": [
        {
          "output_type": "stream",
          "text": [
            "{'algorithm': ['Linear Regression', 'Logistic Regression', 'RandomForest', 'a3c', 'k-means']}\n"
          ],
          "name": "stdout"
        }
      ]
    },
    {
      "cell_type": "code",
      "metadata": {
        "id": "v99yjTpP4S3I",
        "colab_type": "code",
        "colab": {
          "base_uri": "https://localhost:8080/",
          "height": 54
        },
        "outputId": "4ea44fc6-2e43-477a-f912-ffe402a68a18"
      },
      "source": [
        "machine_learning['learning'] = learning\n",
        "machine_learning['algorithm_type'] = algorithm_type \n",
        "print(machine_learning)"
      ],
      "execution_count": 11,
      "outputs": [
        {
          "output_type": "stream",
          "text": [
            "{'algorithm': ['Linear Regression', 'Logistic Regression', 'RandomForest', 'a3c', 'k-means'], 'learning': ['Supervised', 'Supervised', 'Supervised', 'Reinforcement', 'Unsupervised'], 'algorithm_type': ['Regression', 'Classification', 'Regression or Classification', 'Game AI', 'Clustering', 'Clustering']}\n"
          ],
          "name": "stdout"
        }
      ]
    },
    {
      "cell_type": "code",
      "metadata": {
        "id": "9G-w55a_47Qm",
        "colab_type": "code",
        "colab": {
          "base_uri": "https://localhost:8080/",
          "height": 34
        },
        "outputId": "b743bac8-f587-449c-f4c6-14c74be847af"
      },
      "source": [
        "machine_learning['algorithm'].remove('a3c')\n",
        "print(machine_learning['algorithm'])"
      ],
      "execution_count": 12,
      "outputs": [
        {
          "output_type": "stream",
          "text": [
            "['Linear Regression', 'Logistic Regression', 'RandomForest', 'k-means']\n"
          ],
          "name": "stdout"
        }
      ]
    },
    {
      "cell_type": "code",
      "metadata": {
        "id": "fSlGh1lW5yVB",
        "colab_type": "code",
        "colab": {
          "base_uri": "https://localhost:8080/",
          "height": 54
        },
        "outputId": "feca8e51-011d-4eb7-c70b-3b18b6810409"
      },
      "source": [
        "machine_learning['learning'].remove('Reinforcement')\n",
        "machine_learning['algorithm_type'].remove('Game AI')\n",
        "print(machine_learning)"
      ],
      "execution_count": 13,
      "outputs": [
        {
          "output_type": "stream",
          "text": [
            "{'algorithm': ['Linear Regression', 'Logistic Regression', 'RandomForest', 'k-means'], 'learning': ['Supervised', 'Supervised', 'Supervised', 'Unsupervised'], 'algorithm_type': ['Regression', 'Classification', 'Regression or Classification', 'Clustering', 'Clustering']}\n"
          ],
          "name": "stdout"
        }
      ]
    }
  ]
}